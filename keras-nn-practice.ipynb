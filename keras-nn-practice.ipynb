{
 "cells": [
  {
   "cell_type": "code",
   "execution_count": 1,
   "metadata": {
    "_cell_guid": "b1076dfc-b9ad-4769-8c92-a6c4dae69d19",
    "_uuid": "8f2839f25d086af736a60e9eeb907d3b93b6e0e5",
    "execution": {
     "iopub.execute_input": "2020-11-16T06:28:51.355296Z",
     "iopub.status.busy": "2020-11-16T06:28:51.354419Z",
     "iopub.status.idle": "2020-11-16T06:28:51.365858Z",
     "shell.execute_reply": "2020-11-16T06:28:51.364741Z"
    },
    "papermill": {
     "duration": 0.028489,
     "end_time": "2020-11-16T06:28:51.366035",
     "exception": false,
     "start_time": "2020-11-16T06:28:51.337546",
     "status": "completed"
    },
    "tags": []
   },
   "outputs": [
    {
     "name": "stdout",
     "output_type": "stream",
     "text": [
      "/kaggle/input/sign-language-digits-dataset/Y.npy\n",
      "/kaggle/input/sign-language-digits-dataset/X.npy\n",
      "/kaggle/input/sign-language-digits-dataset/Sign-language-digits-dataset/Y.npy\n",
      "/kaggle/input/sign-language-digits-dataset/Sign-language-digits-dataset/X.npy\n"
     ]
    }
   ],
   "source": [
    "# This Python 3 environment comes with many helpful analytics libraries installed\n",
    "# It is defined by the kaggle/python Docker image: https://github.com/kaggle/docker-python\n",
    "# For example, here's several helpful packages to load\n",
    "\n",
    "import numpy as np # linear algebra\n",
    "import pandas as pd # data processing, CSV file I/O (e.g. pd.read_csv)\n",
    "\n",
    "# Input data files are available in the read-only \"../input/\" directory\n",
    "# For example, running this (by clicking run or pressing Shift+Enter) will list all files under the input directory\n",
    "\n",
    "import os\n",
    "for dirname, _, filenames in os.walk('/kaggle/input'):\n",
    "    for filename in filenames:\n",
    "        print(os.path.join(dirname, filename))\n"
   ]
  },
  {
   "cell_type": "code",
   "execution_count": 2,
   "metadata": {
    "_cell_guid": "79c7e3d0-c299-4dcb-8224-4455121ee9b0",
    "_uuid": "d629ff2d2480ee46fbb7e2d37f6b5fab8052498a",
    "execution": {
     "iopub.execute_input": "2020-11-16T06:28:51.391625Z",
     "iopub.status.busy": "2020-11-16T06:28:51.390868Z",
     "iopub.status.idle": "2020-11-16T06:28:58.698409Z",
     "shell.execute_reply": "2020-11-16T06:28:58.697757Z"
    },
    "papermill": {
     "duration": 7.321725,
     "end_time": "2020-11-16T06:28:58.698533",
     "exception": false,
     "start_time": "2020-11-16T06:28:51.376808",
     "status": "completed"
    },
    "tags": []
   },
   "outputs": [
    {
     "data": {
      "text/plain": [
       "<matplotlib.image.AxesImage at 0x7f99865742d0>"
      ]
     },
     "execution_count": 2,
     "metadata": {},
     "output_type": "execute_result"
    },
    {
     "data": {
      "image/png": "[encoded data removed]",
      "text/plain": [
       "<Figure size 432x288 with 1 Axes>"
      ]
     },
     "metadata": {
      "needs_background": "light"
     },
     "output_type": "display_data"
    }
   ],
   "source": [
    "import tensorflow as tf\n",
    "from tensorflow import keras\n",
    "from matplotlib import pyplot as plt\n",
    "from sklearn.model_selection import train_test_split\n",
    "\n",
    "x_l = np.load('/kaggle/input/sign-language-digits-dataset/X.npy')\n",
    "y_l = np.load('/kaggle/input/sign-language-digits-dataset/Y.npy')\n",
    "plt.imshow(x_l[208].reshape(64,64))"
   ]
  },
  {
   "cell_type": "code",
   "execution_count": 3,
   "metadata": {
    "execution": {
     "iopub.execute_input": "2020-11-16T06:28:58.725449Z",
     "iopub.status.busy": "2020-11-16T06:28:58.724631Z",
     "iopub.status.idle": "2020-11-16T06:28:58.734714Z",
     "shell.execute_reply": "2020-11-16T06:28:58.733980Z"
    },
    "papermill": {
     "duration": 0.026818,
     "end_time": "2020-11-16T06:28:58.734856",
     "exception": false,
     "start_time": "2020-11-16T06:28:58.708038",
     "status": "completed"
    },
    "tags": []
   },
   "outputs": [
    {
     "name": "stdout",
     "output_type": "stream",
     "text": [
      "(410, 64, 64)\n",
      "(410, 1)\n"
     ]
    }
   ],
   "source": [
    "X = np.concatenate((x_l[204:409],x_l[822:1027]),axis=0)\n",
    "ones = np.ones((205,1))\n",
    "zeros = np.zeros((205,1))\n",
    "Y = np.concatenate((zeros,ones),axis=0)\n",
    "print(X.shape)\n",
    "print(Y.shape)"
   ]
  },
  {
   "cell_type": "code",
   "execution_count": 4,
   "metadata": {
    "execution": {
     "iopub.execute_input": "2020-11-16T06:28:58.764468Z",
     "iopub.status.busy": "2020-11-16T06:28:58.763232Z",
     "iopub.status.idle": "2020-11-16T06:28:58.773321Z",
     "shell.execute_reply": "2020-11-16T06:28:58.772590Z"
    },
    "papermill": {
     "duration": 0.028447,
     "end_time": "2020-11-16T06:28:58.773455",
     "exception": false,
     "start_time": "2020-11-16T06:28:58.745008",
     "status": "completed"
    },
    "tags": []
   },
   "outputs": [
    {
     "name": "stdout",
     "output_type": "stream",
     "text": [
      "(348, 4096) (62, 4096) (348, 1) (62, 1)\n"
     ]
    }
   ],
   "source": [
    "X_train,X_test,Y_train,Y_test = train_test_split(X,Y,test_size = 0.15,random_state=42 )\n",
    "x_train = X_train.reshape(X_train.shape[0],-1)\n",
    "x_test = X_test.reshape(X_test.shape[0],-1)\n",
    "print(x_train.shape,x_test.shape,Y_train.shape,Y_test.shape)"
   ]
  },
  {
   "cell_type": "code",
   "execution_count": 5,
   "metadata": {
    "execution": {
     "iopub.execute_input": "2020-11-16T06:28:58.808425Z",
     "iopub.status.busy": "2020-11-16T06:28:58.807589Z",
     "iopub.status.idle": "2020-11-16T06:29:07.125604Z",
     "shell.execute_reply": "2020-11-16T06:29:07.124870Z"
    },
    "papermill": {
     "duration": 8.341643,
     "end_time": "2020-11-16T06:29:07.125746",
     "exception": false,
     "start_time": "2020-11-16T06:28:58.784103",
     "status": "completed"
    },
    "tags": []
   },
   "outputs": [
    {
     "name": "stdout",
     "output_type": "stream",
     "text": [
      "Epoch 1/100\n",
      "11/11 [==============================] - 0s 23ms/step - loss: 0.5155 - accuracy: 0.7443 - val_loss: 0.7096 - val_accuracy: 0.5323\n",
      "Epoch 2/100\n",
      "11/11 [==============================] - 0s 5ms/step - loss: 0.3449 - accuracy: 0.8621 - val_loss: 0.6860 - val_accuracy: 0.5323\n",
      "Epoch 3/100\n",
      "11/11 [==============================] - 0s 5ms/step - loss: 0.2673 - accuracy: 0.9167 - val_loss: 0.6766 - val_accuracy: 0.5000\n",
      "Epoch 4/100\n",
      "11/11 [==============================] - 0s 5ms/step - loss: 0.2431 - accuracy: 0.9195 - val_loss: 0.6746 - val_accuracy: 0.5323\n",
      "Epoch 5/100\n",
      "11/11 [==============================] - 0s 5ms/step - loss: 0.1956 - accuracy: 0.9339 - val_loss: 0.6771 - val_accuracy: 0.5484\n",
      "Epoch 6/100\n",
      "11/11 [==============================] - 0s 5ms/step - loss: 0.1954 - accuracy: 0.9397 - val_loss: 0.5878 - val_accuracy: 0.6935\n",
      "Epoch 7/100\n",
      "11/11 [==============================] - 0s 4ms/step - loss: 0.1843 - accuracy: 0.9397 - val_loss: 0.5375 - val_accuracy: 0.6935\n",
      "Epoch 8/100\n",
      "11/11 [==============================] - 0s 5ms/step - loss: 0.1446 - accuracy: 0.9770 - val_loss: 0.3982 - val_accuracy: 0.7903\n",
      "Epoch 9/100\n",
      "11/11 [==============================] - 0s 5ms/step - loss: 0.1266 - accuracy: 0.9770 - val_loss: 0.3132 - val_accuracy: 0.9516\n",
      "Epoch 10/100\n",
      "11/11 [==============================] - 0s 5ms/step - loss: 0.1256 - accuracy: 0.9856 - val_loss: 0.2968 - val_accuracy: 0.8871\n",
      "Epoch 11/100\n",
      "11/11 [==============================] - 0s 5ms/step - loss: 0.0925 - accuracy: 0.9943 - val_loss: 0.2904 - val_accuracy: 0.8871\n",
      "Epoch 12/100\n",
      "11/11 [==============================] - 0s 5ms/step - loss: 0.0913 - accuracy: 0.9943 - val_loss: 0.2631 - val_accuracy: 0.8871\n",
      "Epoch 13/100\n",
      "11/11 [==============================] - 0s 5ms/step - loss: 0.0763 - accuracy: 1.0000 - val_loss: 0.2329 - val_accuracy: 0.9677\n",
      "Epoch 14/100\n",
      "11/11 [==============================] - 0s 5ms/step - loss: 0.0809 - accuracy: 0.9885 - val_loss: 0.2331 - val_accuracy: 0.9355\n",
      "Epoch 15/100\n",
      "11/11 [==============================] - 0s 5ms/step - loss: 0.0746 - accuracy: 0.9914 - val_loss: 0.2001 - val_accuracy: 0.9355\n",
      "Epoch 16/100\n",
      "11/11 [==============================] - 0s 5ms/step - loss: 0.0751 - accuracy: 0.9914 - val_loss: 0.1972 - val_accuracy: 0.9355\n",
      "Epoch 17/100\n",
      "11/11 [==============================] - 0s 5ms/step - loss: 0.0568 - accuracy: 1.0000 - val_loss: 0.1767 - val_accuracy: 0.9677\n",
      "Epoch 18/100\n",
      "11/11 [==============================] - 0s 5ms/step - loss: 0.0541 - accuracy: 1.0000 - val_loss: 0.1815 - val_accuracy: 0.9516\n",
      "Epoch 19/100\n",
      "11/11 [==============================] - 0s 5ms/step - loss: 0.0563 - accuracy: 0.9971 - val_loss: 0.2055 - val_accuracy: 0.9194\n",
      "Epoch 20/100\n",
      "11/11 [==============================] - 0s 5ms/step - loss: 0.0577 - accuracy: 0.9943 - val_loss: 0.1661 - val_accuracy: 0.9516\n",
      "Epoch 21/100\n",
      "11/11 [==============================] - 0s 5ms/step - loss: 0.0567 - accuracy: 0.9885 - val_loss: 0.1466 - val_accuracy: 0.9677\n",
      "Epoch 22/100\n",
      "11/11 [==============================] - 0s 5ms/step - loss: 0.0567 - accuracy: 0.9914 - val_loss: 0.1326 - val_accuracy: 0.9677\n",
      "Epoch 23/100\n",
      "11/11 [==============================] - 0s 5ms/step - loss: 0.0493 - accuracy: 0.9943 - val_loss: 0.1409 - val_accuracy: 0.9839\n",
      "Epoch 24/100\n",
      "11/11 [==============================] - 0s 5ms/step - loss: 0.0451 - accuracy: 0.9943 - val_loss: 0.1335 - val_accuracy: 0.9839\n",
      "Epoch 25/100\n",
      "11/11 [==============================] - 0s 5ms/step - loss: 0.0422 - accuracy: 1.0000 - val_loss: 0.1208 - val_accuracy: 0.9839\n",
      "Epoch 26/100\n",
      "11/11 [==============================] - 0s 5ms/step - loss: 0.0322 - accuracy: 1.0000 - val_loss: 0.1184 - val_accuracy: 0.9839\n",
      "Epoch 27/100\n",
      "11/11 [==============================] - 0s 5ms/step - loss: 0.0352 - accuracy: 0.9971 - val_loss: 0.1297 - val_accuracy: 0.9839\n",
      "Epoch 28/100\n",
      "11/11 [==============================] - 0s 5ms/step - loss: 0.0324 - accuracy: 0.9971 - val_loss: 0.1263 - val_accuracy: 0.9677\n",
      "Epoch 29/100\n",
      "11/11 [==============================] - 0s 5ms/step - loss: 0.0461 - accuracy: 0.9914 - val_loss: 0.1157 - val_accuracy: 0.9677\n",
      "Epoch 30/100\n",
      "11/11 [==============================] - 0s 5ms/step - loss: 0.0388 - accuracy: 0.9943 - val_loss: 0.1529 - val_accuracy: 0.9516\n",
      "Epoch 31/100\n",
      "11/11 [==============================] - 0s 5ms/step - loss: 0.0526 - accuracy: 0.9828 - val_loss: 0.1302 - val_accuracy: 0.9677\n",
      "Epoch 32/100\n",
      "11/11 [==============================] - 0s 5ms/step - loss: 0.0669 - accuracy: 0.9799 - val_loss: 0.1275 - val_accuracy: 0.9839\n",
      "Epoch 33/100\n",
      "11/11 [==============================] - 0s 5ms/step - loss: 0.0429 - accuracy: 0.9971 - val_loss: 0.1085 - val_accuracy: 0.9677\n",
      "Epoch 34/100\n",
      "11/11 [==============================] - 0s 5ms/step - loss: 0.0519 - accuracy: 0.9856 - val_loss: 0.1167 - val_accuracy: 0.9677\n",
      "Epoch 35/100\n",
      "11/11 [==============================] - 0s 5ms/step - loss: 0.0214 - accuracy: 1.0000 - val_loss: 0.1228 - val_accuracy: 0.9677\n",
      "Epoch 36/100\n",
      "11/11 [==============================] - 0s 5ms/step - loss: 0.0209 - accuracy: 1.0000 - val_loss: 0.1197 - val_accuracy: 0.9677\n",
      "Epoch 37/100\n",
      "11/11 [==============================] - 0s 5ms/step - loss: 0.0321 - accuracy: 0.9943 - val_loss: 0.1300 - val_accuracy: 0.9677\n",
      "Epoch 38/100\n",
      "11/11 [==============================] - 0s 5ms/step - loss: 0.0178 - accuracy: 1.0000 - val_loss: 0.1297 - val_accuracy: 0.9677\n",
      "Epoch 39/100\n",
      "11/11 [==============================] - 0s 5ms/step - loss: 0.0192 - accuracy: 1.0000 - val_loss: 0.1301 - val_accuracy: 0.9677\n",
      "Epoch 40/100\n",
      "11/11 [==============================] - 0s 5ms/step - loss: 0.0187 - accuracy: 1.0000 - val_loss: 0.1325 - val_accuracy: 0.9677\n",
      "Epoch 41/100\n",
      "11/11 [==============================] - 0s 5ms/step - loss: 0.0198 - accuracy: 1.0000 - val_loss: 0.1340 - val_accuracy: 0.9677\n",
      "Epoch 42/100\n",
      "11/11 [==============================] - 0s 5ms/step - loss: 0.0437 - accuracy: 0.9856 - val_loss: 0.0977 - val_accuracy: 0.9839\n",
      "Epoch 43/100\n",
      "11/11 [==============================] - 0s 5ms/step - loss: 0.0181 - accuracy: 1.0000 - val_loss: 0.0967 - val_accuracy: 0.9839\n",
      "Epoch 44/100\n",
      "11/11 [==============================] - 0s 5ms/step - loss: 0.0181 - accuracy: 1.0000 - val_loss: 0.1004 - val_accuracy: 0.9677\n",
      "Epoch 45/100\n",
      "11/11 [==============================] - 0s 5ms/step - loss: 0.0165 - accuracy: 1.0000 - val_loss: 0.1064 - val_accuracy: 0.9677\n",
      "Epoch 46/100\n",
      "11/11 [==============================] - 0s 5ms/step - loss: 0.0181 - accuracy: 1.0000 - val_loss: 0.1092 - val_accuracy: 0.9677\n",
      "Epoch 47/100\n",
      "11/11 [==============================] - 0s 5ms/step - loss: 0.0490 - accuracy: 0.9885 - val_loss: 0.1340 - val_accuracy: 0.9677\n",
      "Epoch 48/100\n",
      "11/11 [==============================] - 0s 5ms/step - loss: 0.0234 - accuracy: 0.9971 - val_loss: 0.1803 - val_accuracy: 0.9516\n",
      "Epoch 49/100\n",
      "11/11 [==============================] - 0s 5ms/step - loss: 0.0204 - accuracy: 0.9971 - val_loss: 0.1614 - val_accuracy: 0.9677\n",
      "Epoch 50/100\n",
      "11/11 [==============================] - 0s 5ms/step - loss: 0.0176 - accuracy: 0.9971 - val_loss: 0.1506 - val_accuracy: 0.9677\n",
      "Epoch 51/100\n",
      "11/11 [==============================] - 0s 5ms/step - loss: 0.0172 - accuracy: 1.0000 - val_loss: 0.1493 - val_accuracy: 0.9677\n",
      "Epoch 52/100\n",
      "11/11 [==============================] - 0s 5ms/step - loss: 0.0152 - accuracy: 1.0000 - val_loss: 0.1588 - val_accuracy: 0.9677\n",
      "Epoch 53/100\n",
      "11/11 [==============================] - 0s 5ms/step - loss: 0.0187 - accuracy: 0.9971 - val_loss: 0.1513 - val_accuracy: 0.9677\n",
      "Epoch 54/100\n",
      "11/11 [==============================] - 0s 5ms/step - loss: 0.0188 - accuracy: 1.0000 - val_loss: 0.1568 - val_accuracy: 0.9677\n",
      "Epoch 55/100\n",
      "11/11 [==============================] - 0s 5ms/step - loss: 0.0137 - accuracy: 1.0000 - val_loss: 0.1553 - val_accuracy: 0.9677\n",
      "Epoch 56/100\n",
      "11/11 [==============================] - 0s 5ms/step - loss: 0.0092 - accuracy: 1.0000 - val_loss: 0.1570 - val_accuracy: 0.9677\n",
      "Epoch 57/100\n",
      "11/11 [==============================] - 0s 5ms/step - loss: 0.0171 - accuracy: 0.9971 - val_loss: 0.1601 - val_accuracy: 0.9677\n",
      "Epoch 58/100\n",
      "11/11 [==============================] - 0s 5ms/step - loss: 0.0133 - accuracy: 1.0000 - val_loss: 0.1450 - val_accuracy: 0.9677\n",
      "Epoch 59/100\n",
      "11/11 [==============================] - 0s 5ms/step - loss: 0.0162 - accuracy: 0.9943 - val_loss: 0.1286 - val_accuracy: 0.9677\n",
      "Epoch 60/100\n",
      "11/11 [==============================] - 0s 5ms/step - loss: 0.0169 - accuracy: 0.9971 - val_loss: 0.1447 - val_accuracy: 0.9677\n",
      "Epoch 61/100\n",
      "11/11 [==============================] - 0s 6ms/step - loss: 0.0120 - accuracy: 1.0000 - val_loss: 0.1346 - val_accuracy: 0.9677\n",
      "Epoch 62/100\n",
      "11/11 [==============================] - 0s 7ms/step - loss: 0.0090 - accuracy: 1.0000 - val_loss: 0.1351 - val_accuracy: 0.9677\n",
      "Epoch 63/100\n",
      "11/11 [==============================] - 0s 5ms/step - loss: 0.0081 - accuracy: 1.0000 - val_loss: 0.1388 - val_accuracy: 0.9677\n",
      "Epoch 64/100\n",
      "11/11 [==============================] - 0s 6ms/step - loss: 0.0082 - accuracy: 1.0000 - val_loss: 0.1411 - val_accuracy: 0.9677\n",
      "Epoch 65/100\n",
      "11/11 [==============================] - 0s 6ms/step - loss: 0.0064 - accuracy: 1.0000 - val_loss: 0.1422 - val_accuracy: 0.9677\n",
      "Epoch 66/100\n",
      "11/11 [==============================] - 0s 6ms/step - loss: 0.0130 - accuracy: 1.0000 - val_loss: 0.1512 - val_accuracy: 0.9677\n",
      "Epoch 67/100\n",
      "11/11 [==============================] - 0s 5ms/step - loss: 0.0173 - accuracy: 0.9943 - val_loss: 0.1550 - val_accuracy: 0.9677\n",
      "Epoch 68/100\n",
      "11/11 [==============================] - 0s 7ms/step - loss: 0.0124 - accuracy: 1.0000 - val_loss: 0.1201 - val_accuracy: 0.9677\n",
      "Epoch 69/100\n",
      "11/11 [==============================] - 0s 9ms/step - loss: 0.0111 - accuracy: 1.0000 - val_loss: 0.1265 - val_accuracy: 0.9677\n",
      "Epoch 70/100\n",
      "11/11 [==============================] - 0s 6ms/step - loss: 0.0176 - accuracy: 0.9971 - val_loss: 0.1278 - val_accuracy: 0.9677\n",
      "Epoch 71/100\n",
      "11/11 [==============================] - 0s 5ms/step - loss: 0.0120 - accuracy: 1.0000 - val_loss: 0.1195 - val_accuracy: 0.9677\n",
      "Epoch 72/100\n",
      "11/11 [==============================] - 0s 5ms/step - loss: 0.0211 - accuracy: 0.9971 - val_loss: 0.1418 - val_accuracy: 0.9677\n",
      "Epoch 73/100\n",
      "11/11 [==============================] - 0s 6ms/step - loss: 0.0148 - accuracy: 1.0000 - val_loss: 0.1258 - val_accuracy: 0.9677\n",
      "Epoch 74/100\n",
      "11/11 [==============================] - 0s 5ms/step - loss: 0.0095 - accuracy: 0.9971 - val_loss: 0.3033 - val_accuracy: 0.9194\n",
      "Epoch 75/100\n",
      "11/11 [==============================] - 0s 5ms/step - loss: 0.0442 - accuracy: 0.9856 - val_loss: 0.1158 - val_accuracy: 0.9677\n",
      "Epoch 76/100\n",
      "11/11 [==============================] - 0s 5ms/step - loss: 0.0211 - accuracy: 0.9971 - val_loss: 0.1063 - val_accuracy: 0.9677\n",
      "Epoch 77/100\n",
      "11/11 [==============================] - 0s 5ms/step - loss: 0.0192 - accuracy: 0.9943 - val_loss: 0.1019 - val_accuracy: 0.9839\n",
      "Epoch 78/100\n",
      "11/11 [==============================] - 0s 5ms/step - loss: 0.0128 - accuracy: 0.9971 - val_loss: 0.1020 - val_accuracy: 0.9839\n",
      "Epoch 79/100\n",
      "11/11 [==============================] - 0s 5ms/step - loss: 0.0117 - accuracy: 0.9971 - val_loss: 0.1023 - val_accuracy: 0.9839\n",
      "Epoch 80/100\n",
      "11/11 [==============================] - 0s 5ms/step - loss: 0.0130 - accuracy: 0.9971 - val_loss: 0.1091 - val_accuracy: 0.9677\n",
      "Epoch 81/100\n",
      "11/11 [==============================] - 0s 5ms/step - loss: 0.0056 - accuracy: 1.0000 - val_loss: 0.1128 - val_accuracy: 0.9677\n",
      "Epoch 82/100\n",
      "11/11 [==============================] - 0s 5ms/step - loss: 0.0068 - accuracy: 1.0000 - val_loss: 0.1132 - val_accuracy: 0.9677\n",
      "Epoch 83/100\n",
      "11/11 [==============================] - 0s 5ms/step - loss: 0.0059 - accuracy: 1.0000 - val_loss: 0.1129 - val_accuracy: 0.9677\n",
      "Epoch 84/100\n",
      "11/11 [==============================] - 0s 5ms/step - loss: 0.0049 - accuracy: 1.0000 - val_loss: 0.1129 - val_accuracy: 0.9677\n",
      "Epoch 85/100\n",
      "11/11 [==============================] - 0s 5ms/step - loss: 0.0167 - accuracy: 0.9971 - val_loss: 0.1038 - val_accuracy: 0.9839\n",
      "Epoch 86/100\n",
      "11/11 [==============================] - 0s 4ms/step - loss: 0.0108 - accuracy: 1.0000 - val_loss: 0.1039 - val_accuracy: 0.9839\n",
      "Epoch 87/100\n",
      "11/11 [==============================] - 0s 5ms/step - loss: 0.0077 - accuracy: 1.0000 - val_loss: 0.1049 - val_accuracy: 0.9839\n",
      "Epoch 88/100\n",
      "11/11 [==============================] - 0s 5ms/step - loss: 0.0052 - accuracy: 1.0000 - val_loss: 0.1061 - val_accuracy: 0.9839\n",
      "Epoch 89/100\n",
      "11/11 [==============================] - 0s 5ms/step - loss: 0.0040 - accuracy: 1.0000 - val_loss: 0.1075 - val_accuracy: 0.9839\n",
      "Epoch 90/100\n",
      "11/11 [==============================] - 0s 5ms/step - loss: 0.0040 - accuracy: 1.0000 - val_loss: 0.1085 - val_accuracy: 0.9839\n",
      "Epoch 91/100\n",
      "11/11 [==============================] - 0s 5ms/step - loss: 0.0044 - accuracy: 1.0000 - val_loss: 0.1094 - val_accuracy: 0.9839\n",
      "Epoch 92/100\n",
      "11/11 [==============================] - 0s 5ms/step - loss: 0.0051 - accuracy: 1.0000 - val_loss: 0.1096 - val_accuracy: 0.9839\n",
      "Epoch 93/100\n",
      "11/11 [==============================] - 0s 5ms/step - loss: 0.0042 - accuracy: 1.0000 - val_loss: 0.1103 - val_accuracy: 0.9839\n",
      "Epoch 94/100\n",
      "11/11 [==============================] - 0s 5ms/step - loss: 0.0047 - accuracy: 1.0000 - val_loss: 0.1106 - val_accuracy: 0.9839\n",
      "Epoch 95/100\n",
      "11/11 [==============================] - 0s 5ms/step - loss: 0.0033 - accuracy: 1.0000 - val_loss: 0.1114 - val_accuracy: 0.9677\n",
      "Epoch 96/100\n",
      "11/11 [==============================] - 0s 5ms/step - loss: 0.0045 - accuracy: 1.0000 - val_loss: 0.1120 - val_accuracy: 0.9677\n",
      "Epoch 97/100\n",
      "11/11 [==============================] - 0s 5ms/step - loss: 0.0086 - accuracy: 1.0000 - val_loss: 0.1114 - val_accuracy: 0.9839\n",
      "Epoch 98/100\n",
      "11/11 [==============================] - 0s 5ms/step - loss: 0.0045 - accuracy: 1.0000 - val_loss: 0.1133 - val_accuracy: 0.9677\n",
      "Epoch 99/100\n",
      "11/11 [==============================] - 0s 5ms/step - loss: 0.0044 - accuracy: 1.0000 - val_loss: 0.1145 - val_accuracy: 0.9677\n",
      "Epoch 100/100\n",
      "11/11 [==============================] - 0s 5ms/step - loss: 0.0053 - accuracy: 1.0000 - val_loss: 0.1160 - val_accuracy: 0.9677\n",
      "train_accuracy: 1.0\n",
      "test_accuracy: 0.9838709831237793\n"
     ]
    },
    {
     "data": {
      "image/png": "[encoded data removed]",
      "text/plain": [
       "<Figure size 432x288 with 1 Axes>"
      ]
     },
     "metadata": {
      "needs_background": "light"
     },
     "output_type": "display_data"
    },
    {
     "data": {
      "image/png": "[encoded data removed]",
      "text/plain": [
       "<Figure size 432x288 with 1 Axes>"
      ]
     },
     "metadata": {
      "needs_background": "light"
     },
     "output_type": "display_data"
    }
   ],
   "source": [
    "from sklearn.model_selection import cross_val_score\n",
    "from keras.models import Sequential\n",
    "from keras import layers\n",
    "model = Sequential([\n",
    "    layers.BatchNormalization(input_dim = x_train.shape[1]),\n",
    "    layers.Dense(units=8,activation='relu'),\n",
    "    layers.BatchNormalization(),\n",
    "    layers.Dense(units=4,activation='relu'),\n",
    "    layers.BatchNormalization(),\n",
    "    layers.Dense(units=1,activation='sigmoid')\n",
    "])\n",
    "model.compile(optimizer='adam',loss='binary_crossentropy',metrics=['accuracy'])\n",
    "ANN = model.fit(x_train,Y_train,validation_data = (x_test,Y_test),batch_size=32,epochs=100)\n",
    "\n",
    "history = pd.DataFrame(ANN.history)\n",
    "history.loc[0:,['loss','val_loss']].plot()\n",
    "history.loc[0:,['accuracy','val_accuracy']].plot()\n",
    "print('train_accuracy:',max(history.loc[0:,'accuracy']))\n",
    "print('test_accuracy:',max(history.loc[0:,'val_accuracy']))"
   ]
  },
  {
   "cell_type": "code",
   "execution_count": 6,
   "metadata": {
    "execution": {
     "iopub.execute_input": "2020-11-16T06:29:07.327561Z",
     "iopub.status.busy": "2020-11-16T06:29:07.326754Z",
     "iopub.status.idle": "2020-11-16T06:29:07.382473Z",
     "shell.execute_reply": "2020-11-16T06:29:07.381795Z"
    },
    "papermill": {
     "duration": 0.157508,
     "end_time": "2020-11-16T06:29:07.382599",
     "exception": false,
     "start_time": "2020-11-16T06:29:07.225091",
     "status": "completed"
    },
    "tags": []
   },
   "outputs": [
    {
     "name": "stdout",
     "output_type": "stream",
     "text": [
      "2/2 [==============================] - 0s 2ms/step - loss: 0.1160 - accuracy: 0.9677\n"
     ]
    },
    {
     "data": {
      "text/plain": [
       "[0.11600835621356964, 0.9677419066429138]"
      ]
     },
     "execution_count": 6,
     "metadata": {},
     "output_type": "execute_result"
    }
   ],
   "source": [
    "model.evaluate(x_test,Y_test)"
   ]
  },
  {
   "cell_type": "code",
   "execution_count": 7,
   "metadata": {
    "execution": {
     "iopub.execute_input": "2020-11-16T06:29:07.601480Z",
     "iopub.status.busy": "2020-11-16T06:29:07.600475Z",
     "iopub.status.idle": "2020-11-16T06:29:07.940109Z",
     "shell.execute_reply": "2020-11-16T06:29:07.939075Z"
    },
    "papermill": {
     "duration": 0.460256,
     "end_time": "2020-11-16T06:29:07.940289",
     "exception": false,
     "start_time": "2020-11-16T06:29:07.480033",
     "status": "completed"
    },
    "tags": []
   },
   "outputs": [
    {
     "name": "stdout",
     "output_type": "stream",
     "text": [
      "sign shown is 1\n"
     ]
    },
    {
     "data": {
      "image/png": "[encoded data removed]",
      "text/plain": [
       "<Figure size 432x288 with 1 Axes>"
      ]
     },
     "metadata": {
      "needs_background": "light"
     },
     "output_type": "display_data"
    }
   ],
   "source": [
    "plt.imshow(x_test[47].reshape(64,64))  #change index to view image\n",
    "predictions = model.predict(x_test) \n",
    "if predictions[47]>0.5 :              #change index to view prediction for above selected image\n",
    "    print('sign shown is 1') \n",
    "else :\n",
    "    print('sign shown is 0')"
   ]
  }
 ],
 "metadata": {
  "kernelspec": {
   "display_name": "Python 3",
   "language": "python",
   "name": "python3"
  },
  "language_info": {
   "codemirror_mode": {
    "name": "ipython",
    "version": 3
   },
   "file_extension": ".py",
   "mimetype": "text/x-python",
   "name": "python",
   "nbconvert_exporter": "python",
   "pygments_lexer": "ipython3",
   "version": "3.7.6"
  },
  "papermill": {
   "duration": 22.042456,
   "end_time": "2020-11-16T06:29:08.149562",
   "environment_variables": {},
   "exception": null,
   "input_path": "__notebook__.ipynb",
   "output_path": "__notebook__.ipynb",
   "parameters": {},
   "start_time": "2020-11-16T06:28:46.107106",
   "version": "2.1.0"
  }
 },
 "nbformat": 4,
 "nbformat_minor": 4
}
